{
 "cells": [
  {
   "cell_type": "code",
   "execution_count": null,
   "id": "d969e20f",
   "metadata": {},
   "outputs": [],
   "source": [
    "<h1>Variable dan Tipe Data</h1><hr>\n",
    "Tipe Data pada Phyton\n",
    "<ol>\n",
    "    <li>Float -(float)</li>\n",
    "    <li>String -(str)</li>\n",
    "    <li>Boolean -(bool)</li>\n",
    "    <li>integer  -(int)</li>\n",
    "</ol><hr>\n",
    "<font color=\"blue\"><i>Aturan pemakaian variable :</i></font>\n",
    "<ul>\n",
    "    <li>Tidak boleh menggunaknn spasi</li>\n",
    "    <li>Bersifat case sensitive => A!=a</li>\n",
    "    <li>Terdiri dari huruf,angka dan karakter _ (undesrcore)</li>\n",
    "    <li>Diawali underscore atau huruf</li>\n",
    "    <li>Tidak boleh menggunakan reserved kyword</li>\n",
    "    \n",
    "</ul>"
   ]
  },
  {
   "cell_type": "code",
   "execution_count": 1,
   "id": "f6af50d9",
   "metadata": {},
   "outputs": [
    {
     "name": "stdout",
     "output_type": "stream",
     "text": [
      "100\n",
      "50.6\n",
      "1\n",
      "True\n",
      "1\n"
     ]
    }
   ],
   "source": [
    "data_integer = 100\n",
    "data_float = 50.6\n",
    "data_string = \"1\"\n",
    "data_boolean =True\n",
    "\n",
    "dataku = 100\n",
    "\n",
    "data_string\n",
    "print(data_integer)\n",
    "print(data_float)\n",
    "print(data_string)\n",
    "print(data_boolean)\n",
    "print(data_string)"
   ]
  },
  {
   "cell_type": "raw",
   "id": "1061a17c",
   "metadata": {},
   "source": [
    "print(type(data_integer)\n",
    "print(type(data_float))\n",
    "print(type(data_string))\n",
    "print(type(data_boolean))"
   ]
  },
  {
   "cell_type": "markdown",
   "id": "57b17946",
   "metadata": {},
   "source": [
    "<h3>Konversi Tipe Data dati integer ke (String , Float, Boolean)</h3>"
   ]
  },
  {
   "cell_type": "code",
   "execution_count": 3,
   "id": "26ebf996",
   "metadata": {},
   "outputs": [
    {
     "name": "stdout",
     "output_type": "stream",
     "text": [
      "Isikan bilangan 11\n",
      "isikan bilangan 22\n",
      "12\n"
     ]
    }
   ],
   "source": [
    "bil1 = input(\"Isikan bilangan 1\")\n",
    "bil2 = input (\"isikan bilangan 2\")\n",
    "\n",
    "hasil = bil1 + bil2\n",
    "\n",
    "print(hasil)"
   ]
  },
  {
   "cell_type": "code",
   "execution_count": 12,
   "id": "9821014e",
   "metadata": {},
   "outputs": [
    {
     "name": "stdout",
     "output_type": "stream",
     "text": [
      "1\n",
      "50\n",
      "1\n",
      "<class 'int'>\n",
      "<class 'int'>\n",
      "<class 'int'>\n"
     ]
    }
   ],
   "source": [
    "int_to_string =int (data_string)\n",
    "float_to_int =int (data_float)\n",
    "bool_to_int =int (data_boolean)\n",
    "\n",
    "print(string_to_int)\n",
    "print(float_to_int)\n",
    "print(bool_to_int)\n",
    "\n",
    "print(type(string_to_int))\n",
    "print(type(float_to_int))\n",
    "print(type(bool_to_int))\n",
    "\n",
    "\n",
    "\n"
   ]
  },
  {
   "cell_type": "code",
   "execution_count": 8,
   "id": "093151df",
   "metadata": {},
   "outputs": [
    {
     "name": "stdout",
     "output_type": "stream",
     "text": [
      "1\n",
      "50\n",
      "1\n",
      "<class 'int'>\n",
      "<class 'int'>\n",
      "<class 'int'>\n"
     ]
    }
   ],
   "source": [
    "int_to_string =int (data_string)\n",
    "float_to_string =int(data_float)\n",
    "bool_to_string =int (data_boolean)\n",
    "\n",
    "print(int_to_string)\n",
    "print(float_to_string)\n",
    "print(bool_to_string)\n",
    "\n",
    "print(type(int_to_string))\n",
    "print(type(float_to_string))\n",
    "print(type(bool_to_string))\n",
    "\n"
   ]
  },
  {
   "cell_type": "code",
   "execution_count": 7,
   "id": "d7afc840",
   "metadata": {},
   "outputs": [
    {
     "name": "stdout",
     "output_type": "stream",
     "text": [
      "1\n",
      "50\n",
      "1\n",
      "<class 'int'>\n",
      "<class 'int'>\n",
      "<class 'int'>\n"
     ]
    }
   ],
   "source": [
    "string_to_float =float(data_string)\n",
    "float_to_float =float(data_float)\n",
    "bool_to_float =float (data_boolean)\n",
    "\n",
    "print(int_to_string)\n",
    "print(float_to_string)\n",
    "print(bool_to_string)\n",
    "\n",
    "print(type(int_to_string))\n",
    "print(type(float_to_string))\n",
    "print(type(bool_to_string))\n",
    "\n"
   ]
  }
 ],
 "metadata": {
  "kernelspec": {
   "display_name": "Python 3 (ipykernel)",
   "language": "python",
   "name": "python3"
  },
  "language_info": {
   "codemirror_mode": {
    "name": "ipython",
    "version": 3
   },
   "file_extension": ".py",
   "mimetype": "text/x-python",
   "name": "python",
   "nbconvert_exporter": "python",
   "pygments_lexer": "ipython3",
   "version": "3.9.12"
  }
 },
 "nbformat": 4,
 "nbformat_minor": 5
}
